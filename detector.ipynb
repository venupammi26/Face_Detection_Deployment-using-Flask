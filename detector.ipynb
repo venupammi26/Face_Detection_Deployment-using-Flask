{
 "cells": [
  {
   "cell_type": "code",
   "execution_count": 1,
   "metadata": {
    "scrolled": false
   },
   "outputs": [
    {
     "name": "stdout",
     "output_type": "stream",
     "text": [
      "faces_detected: [[ 91 715 758 758]]\n",
      "confidence: 0.0\n",
      "label: 17\n"
     ]
    }
   ],
   "source": [
    "import cv2\n",
    "import os\n",
    "import numpy as np\n",
    "import faceRecognition as fr\n",
    "\n",
    "\n",
    "#This module takes images  stored in diskand performs face recognition\n",
    "test_img=cv2.imread('TestImages/s.jpg')#test_img path\n",
    "faces_detected,gray_img=fr.faceDetection(test_img)\n",
    "print(\"faces_detected:\",faces_detected)\n",
    "\n",
    "\n",
    "#Comment belows lines when running this program second time.Since it saves training.yml file in directory\n",
    "#faces,faceID=fr.labels_for_training_data('trainingImages')\n",
    "#face_recognizer=fr.train_classifier(faces,faceID)\n",
    "#face_recognizer.write('trainingData.yml')\n",
    "\n",
    "\n",
    "#Uncomment below line for subsequent runs\n",
    "face_recognizer=cv2.face.LBPHFaceRecognizer_create()\n",
    "face_recognizer.read('trainingData.yml')#use this to load training data for subsequent runs\n",
    "\n",
    "name={0:\"Reshwanth\",1:\"Venu\" ,2:\"Uma\",3:\"Upender\",4:\"Nani\",5:\"Naga\",6:\"Pavan\",7:\"Sada\",8:\"Nithish\",9:\"Uma T\",10:\"Prasad\",11:\"Nishanth\",12:\"Gayathri\",13:\"Sravanthi\",14:\"Prasanna\",15:\"Akshitha\", 16:\"Nikhila\",17:\"K.S.Chary\"}#creating dictionary containing names for each label\n",
    "\n",
    "for face in faces_detected:\n",
    "    (x,y,w,h)=face\n",
    "    roi_gray=gray_img[y:y+h,x:x+h]\n",
    "    label,confidence=face_recognizer.predict(roi_gray)#predicting the label of given image\n",
    "    print(\"confidence:\",confidence)\n",
    "    print(\"label:\",label)\n",
    "    fr.draw_rect(test_img,face)\n",
    "    predicted_name=name[label]\n",
    "    #if confidence < 30:#If confidence less than 37 then don't print predicted face text on screen\n",
    "    #       fr.put_text(test_img,predicted_name,x,y)\n",
    "    if(confidence>37):#If confidence more than 37 then don't print predicted face text on screen\n",
    "           continue\n",
    "    \n",
    "        \n",
    "    fr.put_text(test_img,predicted_name,x,y)\n",
    "\n",
    "resized_img=cv2.resize(test_img,(1000,1000))\n",
    "#cv2.imshow(\"face dtecetion tutorial\",resized_img)\n",
    "#cv2.waitKey(0)#Waits indefinitely until a key is pressed\n",
    "#cv2.destroyAllWindows\n",
    "\n",
    "\n",
    "\n",
    "\n",
    "\n"
   ]
  },
  {
   "cell_type": "code",
   "execution_count": 3,
   "metadata": {},
   "outputs": [
    {
     "data": {
      "text/plain": [
       "-1"
      ]
     },
     "execution_count": 3,
     "metadata": {},
     "output_type": "execute_result"
    }
   ],
   "source": [
    "cv2.imshow(\"face dtecetion tutorial\",resized_img)\n",
    "cv2.waitKey(0)"
   ]
  },
  {
   "cell_type": "code",
   "execution_count": 2,
   "metadata": {},
   "outputs": [
    {
     "data": {
      "text/plain": [
       "True"
      ]
     },
     "execution_count": 2,
     "metadata": {},
     "output_type": "execute_result"
    }
   ],
   "source": [
    "path = 'D:/DataScience/projects/Venu_Face_Recognization_System/uploads'\n",
    "cv2.imwrite(os.path.join(path ,'output', 'waka.jpg'), resized_img)\n"
   ]
  },
  {
   "cell_type": "code",
   "execution_count": 3,
   "metadata": {},
   "outputs": [
    {
     "data": {
      "text/plain": [
       "'D:/DataScience/projects/Venu_Face_Recognization_System/uploads\\\\input\\\\waka.jpg'"
      ]
     },
     "execution_count": 3,
     "metadata": {},
     "output_type": "execute_result"
    }
   ],
   "source": [
    "path=os.path.join(path ,'input', 'waka.jpg')\n",
    "path"
   ]
  },
  {
   "cell_type": "code",
   "execution_count": 5,
   "metadata": {},
   "outputs": [
    {
     "data": {
      "text/plain": [
       "('D:/DataScience/projects/Venu_Face_Recognization_System/uploads\\\\input',\n",
       " 'waka.jpg')"
      ]
     },
     "execution_count": 5,
     "metadata": {},
     "output_type": "execute_result"
    }
   ],
   "source": [
    "path = os.path.split(path)\n",
    "path"
   ]
  },
  {
   "cell_type": "code",
   "execution_count": 7,
   "metadata": {},
   "outputs": [
    {
     "data": {
      "text/plain": [
       "('D:/DataScience/projects/Venu_Face_Recognization_System', 'uploads')"
      ]
     },
     "execution_count": 7,
     "metadata": {},
     "output_type": "execute_result"
    }
   ],
   "source": [
    "path = os.path.split(path[0])\n",
    "path"
   ]
  },
  {
   "cell_type": "code",
   "execution_count": 21,
   "metadata": {},
   "outputs": [
    {
     "data": {
      "text/plain": [
       "'D:/DataScience/projects/Venu_Face_Recognization_System/uploads\\\\input\\\\output\\\\waka.jpg'"
      ]
     },
     "execution_count": 21,
     "metadata": {},
     "output_type": "execute_result"
    }
   ],
   "source": [
    "new_path=os.path.join(head_tail[0] ,'output', 'waka.jpg')\n",
    "new_path"
   ]
  },
  {
   "cell_type": "code",
   "execution_count": 15,
   "metadata": {},
   "outputs": [],
   "source": [
    "path =\"D:/DataScience/projects/Venu_Face_Recognization_System/uploads/venu.jpg\""
   ]
  },
  {
   "cell_type": "code",
   "execution_count": 16,
   "metadata": {},
   "outputs": [
    {
     "data": {
      "text/plain": [
       "'D:/DataScience/projects/Venu_Face_Recognization_System/uploads'"
      ]
     },
     "execution_count": 16,
     "metadata": {},
     "output_type": "execute_result"
    }
   ],
   "source": [
    "path = os.path.split(path)\n",
    "path[0]"
   ]
  },
  {
   "cell_type": "code",
   "execution_count": 17,
   "metadata": {},
   "outputs": [
    {
     "data": {
      "text/plain": [
       "'D:/DataScience/projects/Venu_Face_Recognization_System'"
      ]
     },
     "execution_count": 17,
     "metadata": {},
     "output_type": "execute_result"
    }
   ],
   "source": [
    "path = os.path.split(path[0])\n",
    "path[0]"
   ]
  },
  {
   "cell_type": "code",
   "execution_count": 18,
   "metadata": {},
   "outputs": [
    {
     "data": {
      "text/plain": [
       "'D:/DataScience/projects/Venu_Face_Recognization_System\\\\static\\\\output\\\\waka.jpg'"
      ]
     },
     "execution_count": 18,
     "metadata": {},
     "output_type": "execute_result"
    }
   ],
   "source": [
    "npth=os.path.join(path[0] ,'static','output', 'waka.jpg')\n",
    "npth"
   ]
  },
  {
   "cell_type": "code",
   "execution_count": null,
   "metadata": {},
   "outputs": [],
   "source": []
  }
 ],
 "metadata": {
  "kernelspec": {
   "display_name": "Python 3",
   "language": "python",
   "name": "python3"
  },
  "language_info": {
   "codemirror_mode": {
    "name": "ipython",
    "version": 3
   },
   "file_extension": ".py",
   "mimetype": "text/x-python",
   "name": "python",
   "nbconvert_exporter": "python",
   "pygments_lexer": "ipython3",
   "version": "3.6.10"
  }
 },
 "nbformat": 4,
 "nbformat_minor": 2
}
